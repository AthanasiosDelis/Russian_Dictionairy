{
 "cells": [
  {
   "cell_type": "code",
   "execution_count": 1,
   "id": "81ac3e70",
   "metadata": {},
   "outputs": [],
   "source": [
    "import inspect\n",
    "from urllib.request import urlopen\n",
    "from bs4 import BeautifulSoup\n",
    "from urllib.request import urlopen\n",
    "from urllib.error import HTTPError\n",
    "from urllib.error import URLError\n",
    "import numpy as np\n",
    "import matplotlib.pyplot as plt\n",
    "import time\n",
    "import functools\n",
    "import re"
   ]
  },
  {
   "cell_type": "code",
   "execution_count": 44,
   "id": "2004c9be",
   "metadata": {},
   "outputs": [],
   "source": [
    "def merger(adictionairy):\n",
    "    keys = list(adictionairy.keys())\n",
    "    values = list(adictionairy.values())\n",
    "    initlen = len(values)\n",
    "    start = 1\n",
    "    for i in range(0,1):\n",
    "        sumy = values[0]\n",
    "        maxlen= len(values)-1\n",
    "        for index, value in enumerate(values):\n",
    "         #   print('Start: loop ------->')\n",
    "            #print('index: '+str(index))\n",
    "            #print('sumy: '+str(sumy))\n",
    "            #print('value: '+str(value))\n",
    "            #print('values: '+str(values))\n",
    "            #print(sumy+value)\n",
    "            if sumy+value > 100:\n",
    "               # print('----5')\n",
    "                if index<len(values)-1:\n",
    "                        sumy = values[index+1]\n",
    "                continue\n",
    "            if (initlen % 2) != 0  :\n",
    "               # print('----1')\n",
    "                #print('sumy1: '+str(sumy))\n",
    "                #print(values[index-1:index+1])            \n",
    "                if index < maxlen:                \n",
    "                    sumy+=values[index+1]\n",
    "           #         print('Start: if -------')\n",
    "                    keys[index] = keys[index].partition(\"-\")[0]\n",
    "                    new = {str(keys[index])+'-'+str(keys[index+1])\\\n",
    "                   : sumy}\n",
    "                    keys[index]=str(keys[index])+'-'+str(keys[index+1])\n",
    "                    values[index]=sumy\n",
    "                    del keys[index+1]\n",
    "                    del values[index+1]\n",
    "         #           print(index+1)\n",
    "         #           print(values[index])\n",
    "                    if index<len(values)-1:\n",
    "                        sumy = values[index+1]\n",
    "                    #print('sumy: '+str(sumy))\n",
    "                    maxlen= len(values)-1\n",
    "                else:\n",
    "                   # print('----2')\n",
    "                    keys[index-1] = keys[index-1].partition(\"-\")[0]\n",
    "                    new = {str(keys[index-1])+'-'+str(keys[index])\\\n",
    "                       : sumy}\n",
    "                    keys[index-1]=str(keys[index-1])+'-'+str(keys[index])\n",
    "                    values[index-1]=sumy+values[index-1]\n",
    "                    del keys[index]\n",
    "                    del values[index]\n",
    "                    maxlen= len(values)-1\n",
    "           #         print('maxlen: '+str(maxlen))\n",
    "                    start = 0\n",
    "                    break\n",
    "            else:\n",
    "         #       print('sumy1: '+str(sumy))\n",
    "        #        print(values[index-1:index+1])            \n",
    "                if index < maxlen:\n",
    "                    #print('----3')\n",
    "                    sumy+=values[index+1]\n",
    "           #         print('Start: if -------')\n",
    "                    keys[index] = keys[index].partition(\"-\")[0]\n",
    "                    new = {str(keys[index])+'-'+str(keys[index+1])\\\n",
    "                   : sumy}\n",
    "                    keys[index]=str(keys[index])+'-'+str(keys[index+1])\n",
    "                    values[index]=sumy\n",
    "                    del keys[index+1]\n",
    "                    del values[index+1]\n",
    "          #          print(index+1)\n",
    "                    if index<len(values)-1:\n",
    "                        sumy = values[index+1]\n",
    "      #              print('sumy: '+str(sumy))\n",
    "                    maxlen= len(values)-1\n",
    "                else:\n",
    "                    keys[index-1] = keys[index-1].partition(\"-\")[0]\n",
    "                    new = {str(keys[index-1])+'-'+str(keys[index])\\\n",
    "                       : sumy}\n",
    "                    keys[index-1]=str(keys[index-1])+'-'+str(keys[index])\n",
    "                    values[index-1]=sumy+values[index-1]\n",
    "                    del keys[index]\n",
    "                    del values[index]\n",
    "                    maxlen= len(values)-1\n",
    "                    #print('----4')\n",
    "                    start = 0\n",
    "                    break\n",
    "          #  print('values: : '+str(values))\n",
    "         #   print('End ------->\\n')\n",
    "            #values[index-1:index+1] = [functools.reduce(lambda x, y: x + y, values[index-1:index+1])]\n",
    "        #print(len([*filter(lambda x: x < 10, values)])!=0)\n",
    "        #print('keys: '+str(keys))\n",
    "        #print('values: '+str(values))\n",
    "        #print([str(re.sub(\"[-].*[-]\", \"-\",\\\n",
    "        #    str(key.partition(\"-\")[0])+'-'+ str(key.partition(\"-\")[2])))\\\n",
    "        # for key,i in zip(keys,range(0,len(keys)))])\n",
    "    keyss=[str(re.sub(\"[-].*[-]\", \"-\",\\\n",
    "            str(key.partition(\"-\")[0])+'-'+ str(key.partition(\"-\")[-1])))\\\n",
    "           if str(key.partition(\"-\")[-1]) != '' else str(key.partition(\"-\")[0]) for key,i in zip(keys,range(0,len(keys)))]\n",
    "        \n",
    "    adictionairy = dict(zip(keyss, values))\n",
    "    #print(adictionairy,'\\n')\n",
    "    return adictionairy"
   ]
  },
  {
   "cell_type": "code",
   "execution_count": 3,
   "id": "0edf7305",
   "metadata": {},
   "outputs": [],
   "source": [
    "def sortener(diction_data, min_words_per_room=10):\n",
    "    mini3 = diction_data.copy()\n",
    "#print(mini3)\n",
    "    while len([*filter(lambda x: x < min_words_per_room,\\\n",
    "            list(mini3.values()))])!=0:\n",
    "        mini3=merger(mini3)\n",
    "    #print(mini3)\n",
    "    return mini3\n",
    "#print(mini)\n",
    "#"
   ]
  },
  {
   "cell_type": "code",
   "execution_count": 62,
   "id": "fd165f7e",
   "metadata": {},
   "outputs": [],
   "source": [
    "\n",
    "#\"\"\" KATO ORIO!!!!!!!!!\n",
    "alphabet = 'АаБбВвГгДдЕеЁёЖжЗзИиЙйКкЛлМмНнОоПпРрСсТтУуФфХхЦцЧчШшЩщЪъЫыЬьЭэЮюЯя'\n",
    "alphabet_upper = 'АБВГДЕЁЖЗИЙКЛМНОПРСТУФХЦЧШЩЪЫЬЭЮЯ'\n",
    "alphabet_lower='абвгдеёжзийклмнопрстуфхцчшщъыьэюя'\n",
    "#print(alphabet_lower)\n",
    "def hist_data(dictionery, front='',maxlimit=10000,minlimit=10,words=False):\n",
    "    '''\n",
    "    Takes a LIST of words and optionally the first letters of word that determine the sublist returned\n",
    "    \n",
    "    Params :\n",
    "    \n",
    "        dictionery(list) : List of words from which we want two draw a histogram of their starting letter.\n",
    "        The words must be written with cyrillic alphabet. The user can choose to histogram acquire data f\n",
    "        or the nth letter, given that he provides the former n-1 letters that should characterize the word\n",
    "        \n",
    "        front(string) : A string of n letters, existing in the begging of each word. If the user gives for \n",
    "        exampe the input 'зт' the functions for every letter of cyrilic alphabet, e.g. 'letter' , finds all\n",
    "        the words in the diction(list) that start with the string 'зт'+letter.\n",
    "        \n",
    "    Returns :\n",
    "        converted_word : A dictionairy of the starting substring, as a key and the frequency in which this\n",
    "        substring initiates a word, as the value.\n",
    "    '''\n",
    "    \n",
    "    new_dict_tmp  = {}\n",
    "    letters_tmp = []\n",
    "    for gramma in alphabet_lower:  \n",
    "        letter_tmp = [(dicty) for dicty in loweraddsort(list(dictionery)) if dicty.startswith(front+gramma) is True]\n",
    "        #print(letter_tmp)\n",
    "        if len(letter_tmp) != 0:\n",
    "            if len(letter_tmp) >maxlimit:\n",
    "                \n",
    "                tmp_dict,words_tmp = hist_data(diction, front=front+gramma,maxlimit=maxlimit,words=words)\n",
    "                #print(letter_tmp)\n",
    "                new_dict_tmp.update(tmp_dict)                \n",
    "                letters_tmp.append(words_tmp)\n",
    "                #print(new_dict_tmp)\n",
    "            else:    \n",
    "                #print(letter_tmp)\n",
    "                new_dict_tmp[front+gramma]= len(letter_tmp)\n",
    "                #print(new_dict_tmp[front+gramma])\n",
    "                letters_tmp.append(letter_tmp.copy())\n",
    "                #print(letter_tmp)\n",
    "        letter_tmp.clear()\n",
    "    if words is True:\n",
    "        return  sortener(new_dict_tmp,min_words_per_room=minlimit),letters_tmp\n",
    "    return  sortener(new_dict_tmp,min_words_per_room=minlimit)#\"\"\""
   ]
  },
  {
   "cell_type": "code",
   "execution_count": 5,
   "id": "5135f17b",
   "metadata": {},
   "outputs": [],
   "source": [
    "cyrillic_translit={'\\u0410': 'A', '\\u0430': 'a',\n",
    "'\\u0411': 'B', '\\u0431': 'b',\n",
    "'\\u0412': 'V', '\\u0432': 'v',\n",
    "'\\u0413': 'G', '\\u0433': 'g',\n",
    "'\\u0414': 'D', '\\u0434': 'd',\n",
    "'\\u0415': 'E', '\\u0435': 'e',\n",
    "'\\u0416': 'Zh', '\\u0436': 'zh',\n",
    "'\\u0417': 'Z', '\\u0437': 'z',\n",
    "'\\u0418': 'I', '\\u0438': 'i',\n",
    "'\\u0419': 'I', '\\u0439': 'i',\n",
    "'\\u041a': 'K', '\\u043a': 'k',\n",
    "'\\u041b': 'L', '\\u043b': 'l',\n",
    "'\\u041c': 'M', '\\u043c': 'm',\n",
    "'\\u041d': 'N', '\\u043d': 'n',\n",
    "'\\u041e': 'O', '\\u043e': 'o',\n",
    "'\\u041f': 'P', '\\u043f': 'p',\n",
    "'\\u0420': 'R', '\\u0440': 'r',\n",
    "'\\u0421': 'S', '\\u0441': 's',\n",
    "'\\u0422': 'T', '\\u0442': 't',\n",
    "'\\u0423': 'U', '\\u0443': 'u',\n",
    "'\\u0424': 'F', '\\u0444': 'f',\n",
    "'\\u0425': 'Kh', '\\u0445': 'kh',\n",
    "'\\u0426': 'Ts', '\\u0446': 'ts',\n",
    "'\\u0427': 'Ch', '\\u0447': 'ch',\n",
    "'\\u0428': 'Sh', '\\u0448': 'sh',\n",
    "'\\u0429': 'Shch', '\\u0449': 'shch',\n",
    "'\\u042a': '\"', '\\u044a': '\"',\n",
    "'\\u042b': 'Y', '\\u044b': 'y',\n",
    "'\\u042c': \"'\", '\\u044c': \"'\",\n",
    "'\\u042d': 'E', '\\u044d': 'e',\n",
    "'\\u042e': 'Iu', '\\u044e': 'iu',\n",
    "'\\u042f': 'Ia', '\\u044f': 'ia'}\n",
    "def transliterate(word, translit_table=cyrillic_translit):\n",
    "    '''\n",
    "    Takes a word and a transliterations dictionairy it translitarates the word\n",
    "    \n",
    "    Params :\n",
    "        word :\n",
    "        translit_table :\n",
    "    Returns :\n",
    "        converted_word :\n",
    "    '''\n",
    "    converted_word = ''\n",
    "    for char in word:\n",
    "        transchar = ''\n",
    "        if char in translit_table:\n",
    "            transchar = translit_table[char]\n",
    "        else:\n",
    "            transchar = char\n",
    "        converted_word += transchar\n",
    "    return converted_word"
   ]
  },
  {
   "cell_type": "code",
   "execution_count": 6,
   "id": "6275453a",
   "metadata": {},
   "outputs": [],
   "source": [
    "#\"\"\"\n",
    "def hist_data2(diction2):\n",
    "    new_dict2_tmp  = {}\n",
    "    grammata_tmp = []\n",
    "    grammata3_tmp = []\n",
    "    for gramma in alphabet_lower:  \n",
    "        sum=[]\n",
    "        new_dict3 = {}\n",
    "        for gramma2 in alphabet_lower:\n",
    "            tmp_list = []        \n",
    "            letter2 = []\n",
    "            for i in range(0,len(diction2)):\n",
    "                if(diction2[i].startswith(gramma+gramma2)):\n",
    "                    letter2.append(diction2[i])\n",
    "            if len(letter2) != 0:\n",
    "                tmp_list.append(letter2.copy())\n",
    "                new_dict2_tmp[gramma+gramma2] = tmp_list.copy()\n",
    "                sum.append(gramma+gramma2)\n",
    "                new_dict3[gramma+gramma2]= len(letter2)\n",
    "            letter2.clear()\n",
    "            tmp_list.clear()\n",
    "        grammata3_tmp.append(new_dict3)\n",
    "        grammata_tmp.append(sum)\n",
    "    return new_dict2_tmp, grammata_tmp,grammata3_tmp#\"\"\""
   ]
  },
  {
   "cell_type": "code",
   "execution_count": 7,
   "id": "de8a969a",
   "metadata": {},
   "outputs": [],
   "source": [
    "def loweraddsort(done):\n",
    "    '''\n",
    "    Takes a LIST of words, lowers all the letters and the sorts the list.\n",
    "    \n",
    "    Params :\n",
    "    \n",
    "        done(list) : List of words from which we want to lower and sort.\n",
    "        \n",
    "    Returns :\n",
    "        done(list) : The list after the above mentioned transformations.\n",
    "    '''\n",
    "    for i in range(0,len(done)):\n",
    "        done[i]=done[i].lower()    \n",
    "    done = np.sort(done)\n",
    "    return done\n",
    "#print(*dictionairy, sep = '\\n')"
   ]
  },
  {
   "cell_type": "code",
   "execution_count": 8,
   "id": "b0e402f0",
   "metadata": {},
   "outputs": [],
   "source": [
    "#%matplotlib tk\n",
    "l=0\n",
    "diction_tmp = []\n",
    "def hist_plot(diction_tmp,a=1,rounding=1,saveName=str(diction_tmp),rotate=0,sizing=10,figsize= (13,6)):\n",
    "    plt.clf()\n",
    "    fig, ax = plt.subplots(figsize = figsize)\n",
    "    ax.bar(list(diction_tmp.keys()), diction_tmp.values(), \\\n",
    "        align='center',color='red', edgecolor = 'black')\n",
    "    for index,data in enumerate(list(diction_tmp.values())):\n",
    "        plt.text(x=index , y = (data+1) , s=f\"{round(data/a, rounding)}\" ,\\\n",
    "             fontdict=dict(fontsize=sizing), horizontalalignment='center',\\\n",
    "             verticalalignment='baseline',rotation=rotate)\n",
    "    plt.tight_layout()\n",
    "    plt.xticks(rotation=rotate, ha='center',size=sizing+2)\n",
    "    global l\n",
    "    l+=1\n",
    "    plt.savefig(saveName+'.jpg', format='jpg', dpi=1200)\n",
    "    plt.show()#\"\"\""
   ]
  },
  {
   "cell_type": "code",
   "execution_count": 9,
   "id": "244ecaa9",
   "metadata": {},
   "outputs": [],
   "source": [
    "grammataki = 7\n",
    "grammata3 = {}\n",
    "#%matplotlib tk\n",
    "def plotty(gram=grammataki,grammat3=grammata3):\n",
    "    #plt.clf()\n",
    "    plt.figure(grammataki)\n",
    "    fig, ax = plt.subplots(figsize = (15,5))\n",
    "    ax.bar(list(grammat3[gram].keys()),\\\n",
    "       grammat3[gram].values(), \\\n",
    "        align='center',color='red', edgecolor = 'black')\n",
    "    for index,data in enumerate(list(grammat3[gram].values())):\n",
    "        plt.text(x=index , y =data+1 , s=f\"{data}\" , \\\n",
    "             fontdict=dict(fontsize=15), horizontalalignment='center'\\\n",
    "             ,verticalalignment='baseline')\n",
    "    plt.title(alphabet_upper[gram])\n",
    "    plt.tight_layout()\n",
    "    plt.savefig(str(alphabet_upper[gram])+'.png')\n",
    "    plt.show() #\"\"\""
   ]
  },
  {
   "cell_type": "code",
   "execution_count": 10,
   "id": "49017c06",
   "metadata": {},
   "outputs": [],
   "source": [
    "#%matplotlib tk\n",
    "def hist_big(big):\n",
    "    plt.clf()\n",
    "    fig, ax = plt.subplots(figsize = (20,20))\n",
    "    ax.bar(list(big.keys()), big.values(), \\\n",
    "        align='center',color='red', edgecolor = 'black')\n",
    "    ax.yaxis.labelpad = 20\n",
    "    for index,data in enumerate(list(big.values())):\n",
    "        plt.text(x = index,y=data+1 ,  s=f\"{data}\" ,\\\n",
    "             fontdict=dict(fontsize=5),\\\n",
    "             horizontalalignment='center',\\\n",
    "             verticalalignment='center')\n",
    "    plt.tick_params(axis='x', which='major', labelsize=4)\n",
    "    plt.tight_layout()\n",
    "    plt.show()#\"\"\""
   ]
  },
  {
   "cell_type": "code",
   "execution_count": 11,
   "id": "9cc1cd75",
   "metadata": {},
   "outputs": [
    {
     "name": "stdout",
     "output_type": "stream",
     "text": [
      "It Worked!\n"
     ]
    }
   ],
   "source": [
    "try:\n",
    " urlMain='http://www.wordcyclopedia.com'\n",
    " listLevels = np.asarray([ 'a1', 'a2', 'b1', 'b2', 'c1', 'c2'])\n",
    " url ='http://www.wordcyclopedia.com/russian/'\n",
    "except HTTPError as e:\n",
    " print(e)\n",
    "except URLError as e:\n",
    " print('The server could not be found!')\n",
    "else:\n",
    " print('It Worked!')"
   ]
  },
  {
   "cell_type": "code",
   "execution_count": 12,
   "id": "c1fae3f3",
   "metadata": {},
   "outputs": [
    {
     "name": "stdout",
     "output_type": "stream",
     "text": [
      "932\n",
      "1056\n",
      "1562\n",
      "3422\n",
      "1393\n",
      "582\n"
     ]
    }
   ],
   "source": [
    "sum = 0\n",
    "for level in listLevels:\n",
    "    html = urlopen(url + str(level))\n",
    "    bs = BeautifulSoup\\\n",
    "     (html.read(),'html.parser')\n",
    " #Find all words for a level\n",
    "    wordList_tmp = bs.find_all\\\n",
    "     ('a', {'class':'word'})\n",
    "#transList_tmp = word.parent.find_all('span', {'class':'translation'})\n",
    "    print(len(wordList_tmp))\n",
    "    globals()[str(level)] = np.ndarray(shape = (3,len(wordList_tmp)) , dtype = object)\n",
    "    #locals()[str(level)] = np.zeros(3,len(wordList_tmp))\n",
    "    j = 0 \n",
    "    for word in wordList_tmp:\n",
    "    #print(word.get_text())\n",
    "        transList_tmp = word.parent.find_all('span', {'class':'translation'})\n",
    "    #print(transList_tmp)\n",
    "        trans = []\n",
    "        for item in transList_tmp:\n",
    "            trans.append(item.get_text())\n",
    "        globals()[str(level)][1][j]=\\\n",
    "        trans\n",
    "        globals()[str(level)][0][j]=\\\n",
    "        word.get_text()\n",
    "        globals()[str(level)][2][j]=\\\n",
    "        (urlMain+str(word.get('href')))\n",
    "        j +=1\n",
    "    sum += j"
   ]
  },
  {
   "cell_type": "code",
   "execution_count": 46,
   "id": "da9bff88",
   "metadata": {},
   "outputs": [],
   "source": [
    "dictionairy = np.ndarray(shape = (sum,), dtype = object)\n",
    "#print(dictionairy.shape)\n",
    "t = 0\n",
    "baby_dicty = {}\n",
    "numy = 8947\n",
    "baby_dictionairy = np.ndarray(shape = ( 2, numy), dtype = object)\n",
    "for level in listLevels:\n",
    "    for word in range(0,len(globals()[str(level)][0])):\n",
    "        #print(globals()[str(level)][0][word])\n",
    "        dictionairy[t] = globals()[str(level)][0][word]\n",
    "        #print(dictionairy[t])\n",
    "        if t<numy:\n",
    "            baby_dictionairy[0][t] = globals()[str(level)][0][word]\n",
    "            baby_dictionairy[1][t] = globals()[str(level)][1][word]\n",
    "            baby_dicty[globals()[str(level)][0][word]] = globals()[str(level)][1][word]\n",
    "            #print(baby_dictionairy[t])\n",
    "        t+=1\n",
    "        \n"
   ]
  },
  {
   "cell_type": "code",
   "execution_count": 14,
   "id": "52759c8d",
   "metadata": {},
   "outputs": [],
   "source": [
    "dictionairy = loweraddsort(dictionairy)"
   ]
  },
  {
   "cell_type": "code",
   "execution_count": 21,
   "id": "9d0dc42d",
   "metadata": {},
   "outputs": [],
   "source": [
    "url2 = 'https://en.m.wiktionary.org/wiki/Appendix:Frequency_dictionary_of_the_modern_Russian_language_(the_Russian_National_Corpus)?fbclid=IwAR2KNoYseAv8ik48vf_m7zlgQ15asBGDIZEBL7_SFhHWpsRwUQ4HzOsA-kQ'\n",
    "html2 = urlopen(url2)\n",
    "bs2 = BeautifulSoup\\\n",
    "     (html2.read(),'html.parser')\n",
    " #Find all words for a level"
   ]
  },
  {
   "cell_type": "code",
   "execution_count": 89,
   "id": "651c381a",
   "metadata": {},
   "outputs": [],
   "source": [
    "wordList_tmp = bs2.find\\\n",
    "    (\"div\", {\"class\": \"mw-parser-output\"})\\\n",
    "    .find(\"ol\").find_all(\"li\")\n",
    "cutie= []\n",
    "dict_array = np.ndarray(shape= (len(wordList_tmp),3), dtype = \"object\")\n",
    "diction = {}\n",
    "for i,j in zip(wordList_tmp, range(0,len(wordList_tmp))):\n",
    "    s = i.get_text()\n",
    "    diction[i.a.get_text().lower()] = [i.a.get('href'),s[s.find(\"(\")+1:s.find(\")\")]]\n",
    "    cutie.append(i.a.get_text().lower())\n",
    "sorted_items = sorted(diction.items())\n",
    "#print(*cutie)\n",
    "#\"\"\"                                      \n",
    "for items,j in zip(sorted_items, range(0,len(wordList_tmp))):\n",
    "    #print(items[1][1])\n",
    "    diction[items[0]] = items[1]\n",
    "    dict_array[j][0] = items[0]\n",
    "    dict_array[j][1] = items[1][0]\n",
    "    dict_array[j][2] = items[1][1] \n",
    "#\n",
    "#\"\"\"\n",
    "grammatical_types_list = [ item for itemy in [ *dict_array[0:,-1:]]\\\n",
    "                          for item in itemy]\n",
    "grammatical_types = list(dict.fromkeys(grammatical_types_list))\n",
    "types_dict={}\n",
    "#print([index for index, element in enumerate(grammatical_types_list) if element is None])\n"
   ]
  },
  {
   "cell_type": "code",
   "execution_count": 99,
   "id": "b5cb0449",
   "metadata": {},
   "outputs": [],
   "source": [
    "path = r'C:\\Users\\Thanasis\\Documents\\Russian\\python\\Russian_Dictionairy\\csv_file.txt'\n",
    "path2 = r'C:\\Users\\Thanasis\\Documents\\Russian\\python\\Russian_Dictionairy\\csv_file2.txt'\n",
    "# open the file in the write mode\n",
    "#fcsv = open(path1,encoding = 'utf-8', mode = 'w')\n",
    "ftxt = open(path,encoding = 'utf-8', mode = 'w')\n",
    "ftxt2 = open(path,encoding = 'utf-8', mode = 'w')\n",
    "poll =''\n",
    "poll2 =''\n",
    "for cuti in cutie:\n",
    "    #print(cuti)\n",
    "    poll += str(cuti)+',\\n'\n",
    "for wordie in wordies:\n",
    "    #print(wordie)\n",
    "    poll2 += str(wordie)+',\\n'\n",
    "ftxt.write(poll)\n",
    "ftxt.write(poll2)\n",
    "# close the file\n",
    "#fcsv.close()\n",
    "ftxt.close()\n",
    "ftxt2.close()"
   ]
  },
  {
   "cell_type": "code",
   "execution_count": 97,
   "id": "93a0c1f8",
   "metadata": {
    "scrolled": true
   },
   "outputs": [
    {
     "name": "stdout",
     "output_type": "stream",
     "text": [
      "а:17:209\n",
      "___________12.3_words per category 8.1%\n",
      "б:9:318\n",
      "___________35.3_words per category 2.8%\n",
      "в:24:720\n",
      "___________30.0_words per category 3.3%\n",
      "г:10:269\n",
      "___________26.9_words per category 3.7%\n",
      "д:15:421\n",
      "___________28.1_words per category 3.6%\n",
      "е:14:49\n",
      "___________3.5_words per category 28.6%\n",
      "ж:9:98\n",
      "___________10.9_words per category 9.2%\n",
      "з:12:355\n",
      "___________29.6_words per category 3.4%\n",
      "и:16:309\n",
      "___________19.3_words per category 5.2%\n",
      "й:1:2\n",
      "___________2.0_words per category 50.0%\n",
      "к:13:561\n",
      "___________43.2_words per category 2.3%\n",
      "л:11:172\n",
      "___________15.6_words per category 6.4%\n",
      "м:16:366\n",
      "___________22.9_words per category 4.4%\n",
      "н:12:489\n",
      "___________40.8_words per category 2.5%\n",
      "о:23:557\n",
      "___________24.2_words per category 4.1%\n",
      "п:15:1409\n",
      "___________93.9_words per category 1.1%\n",
      "р:12:456\n",
      "___________38.0_words per category 2.6%\n",
      "с:27:961\n",
      "___________35.6_words per category 2.8%\n",
      "т:13:341\n",
      "___________26.2_words per category 3.8%\n",
      "у:21:282\n",
      "___________13.4_words per category 7.4%\n",
      "ф:8:111\n",
      "___________13.9_words per category 7.2%\n",
      "х:7:86\n",
      "___________12.3_words per category 8.1%\n",
      "ц:6:54\n",
      "___________9.0_words per category 11.1%\n",
      "ч:7:122\n",
      "___________17.4_words per category 5.7%\n",
      "ш:10:80\n",
      "___________8.0_words per category 12.5%\n",
      "щ:2:8\n",
      "___________4.0_words per category 25.0%\n",
      "э:13:95\n",
      "___________7.3_words per category 13.7%\n",
      "ю:8:13\n",
      "___________1.6_words per category 61.5%\n",
      "я:15:34\n",
      "___________2.3_words per category 44.1%\n"
     ]
    }
   ],
   "source": [
    "new_dict = hist_data(dictionairy,maxlimit=10000,minlimit=1)\n",
    "new_dict2, grammata, grammata3 = hist_data2(dictionairy)\n",
    "dictera,wordies = hist_data(dictionairy, front='',maxlimit=10000,minlimit=1,words=True)\n",
    "big_dict = {}\n",
    "listy = []\n",
    "for d in grammata3:\n",
    "    big_dict.update(d)\n",
    "#print(*grammata, sep = '\\n')\n",
    "#print(new_dict2, sep = '\\n')\n",
    "#print(*grammata3, sep = '\\n')\n",
    "#print(dictera)\n",
    "#print(wordies)\n",
    "for active,leter in zip(range(0,len(grammata)), alphabet_lower):\n",
    "    if leter in new_dict.keys():\n",
    "        print(leter + ':' + str(len(grammata[active]))+ ':' +\\\n",
    "          str(new_dict[leter]))\n",
    "        tmp = round(new_dict[leter]/len(grammata[active]),1)\n",
    "        tmp2 = round(len(grammata[active])/new_dict[leter]*100,1)\n",
    "        print('___________' +\\\n",
    "              str(tmp) +'_words per category ' + str(tmp2) + '%')\n",
    "    #else:\n",
    "        #print(leter + ':' + str(len(grammata[active]))+ ':' +\\\n",
    "          #str(new_dict[leter]))\n",
    "    #print(list(new_dict2.keys())[0:17])\n",
    "    #print(len(list(new_dict2.keys())))\"\"\""
   ]
  },
  {
   "cell_type": "code",
   "execution_count": 27,
   "id": "213614cf",
   "metadata": {},
   "outputs": [],
   "source": [
    "type_names ={\n",
    "    'part': 'particle',\n",
    "    's': 'noun',\n",
    "    'intj': 'interjection',\n",
    "    'adv': 'adverb',\n",
    "    'a': 'adjective',\n",
    "    'v': 'verb',\n",
    "    'conj': 'conjunction/pronoun',\n",
    "    'pr': 'preposition',\n",
    "    'num': 'cardinal_numeral',\n",
    "    'apro': 'determiner/pronoun',\n",
    "    'advpro': 'adverb/pronoun',\n",
    "    'anum': 'ordinal_numeral',\n",
    "    'spro': 'singular pronoun',\n",
    "    None:'None'\n",
    "}\n"
   ]
  },
  {
   "cell_type": "code",
   "execution_count": 88,
   "id": "0f727e39",
   "metadata": {},
   "outputs": [
    {
     "name": "stdout",
     "output_type": "stream",
     "text": [
      "19532\n"
     ]
    }
   ],
   "source": [
    "\n",
    "####SOS!!!###\n",
    "#None is because html is so big it cant see it all, without hitting a button \"Show All\"\n",
    "\n",
    "\n",
    "for types in grammatical_types[:-1]:\n",
    "    indices = len([index \\\n",
    "               for index, element in enumerate(grammatical_types_list)\\\n",
    "               #if element == 's' if element == 'adv' == element == 'a' if element == 'v'])\n",
    "                if element == types])\n",
    "    types_dict[type_names[types]] = indices\n",
    "#print(*[key for key, value in types_dict.items()],sep='\\n')\n",
    "#('\\''+str(key)+'\\'')\n",
    "#print(types_dict)\n",
    "problems = [dict_array[index][0] for index, element in enumerate(grammatical_types_list)\\\n",
    "       if element != 's' if element !='adv' if element !='a' if element !='v'\\\n",
    "      if element != None]\n",
    "common_problems = [problem for problem in problems if problem in dictionairy ]\n",
    "not_common_problems = [problem for problem in problems if problem not in dictionairy ]\n",
    "#print(len(problems), len(common_problems), *not_common_problems,sep='\\n')\n",
    "print(len(grammatical_types_list)-(len(problems)))"
   ]
  },
  {
   "cell_type": "code",
   "execution_count": 87,
   "id": "f0326e2d",
   "metadata": {},
   "outputs": [],
   "source": [
    "#hist_plot(types_dict,saveName='grammatical_types',rotate=-45)"
   ]
  },
  {
   "cell_type": "code",
   "execution_count": 34,
   "id": "30e75d83",
   "metadata": {},
   "outputs": [],
   "source": [
    "new_dict21, grammata1, grammata31 = hist_data2(list(diction))"
   ]
  },
  {
   "cell_type": "code",
   "execution_count": 35,
   "id": "90c2c365",
   "metadata": {},
   "outputs": [],
   "source": [
    "new_dict22, grammata2, grammata32 = hist_data2(list(baby_dictionairy[0][0:]))"
   ]
  },
  {
   "cell_type": "code",
   "execution_count": 36,
   "id": "b8b9cd1f",
   "metadata": {},
   "outputs": [],
   "source": [
    "big_dict1 = {}\n",
    "for d in grammata31:\n",
    "    big_dict1.update(d)"
   ]
  },
  {
   "cell_type": "code",
   "execution_count": 37,
   "id": "0f4e898a",
   "metadata": {},
   "outputs": [],
   "source": [
    "big_dict2 = {}\n",
    "for d in grammata32:\n",
    "    big_dict2.update(d)"
   ]
  },
  {
   "cell_type": "code",
   "execution_count": 39,
   "id": "5b561272",
   "metadata": {},
   "outputs": [
    {
     "name": "stdout",
     "output_type": "stream",
     "text": [
      "кофе\n",
      "кофейный\n",
      "кофейня\n",
      "кофта\n",
      "кофточка\n"
     ]
    },
    {
     "data": {
      "text/plain": [
       "['кофе', 'кофейный', 'кофейня', 'кофта', 'кофточка']"
      ]
     },
     "execution_count": 39,
     "metadata": {},
     "output_type": "execute_result"
    }
   ],
   "source": [
    "#one liner list for print all words with the letter of want\n",
    "print(*[(dicty) for dicty in loweraddsort(list(diction)) if dicty.startswith('коф') is True],sep = '\\n' )\n",
    "[(dicty) for dicty in loweraddsort(list(diction)) if dicty.startswith('коф') is True]"
   ]
  },
  {
   "cell_type": "code",
   "execution_count": 42,
   "id": "7a245eb6",
   "metadata": {},
   "outputs": [
    {
     "name": "stdout",
     "output_type": "stream",
     "text": [
      "{'пода-подб': 25, 'подв-подг': 40, 'подд-поде': 19, 'подж-подз': 8, 'поди-подк': 19, 'подл-подм': 26, 'подн-подо': 42, 'подп-подр': 45, 'подс-подт': 50, 'поду-подх': 11, 'подц-подч': 11, 'подш-поды': 14} \n",
      "\n",
      "{'пода-подг': 65, 'подд-подз': 27, 'поди-подм': 45, 'подн-подр': 87, 'подс-подх': 61, 'подц-поды': 25} \n",
      "\n"
     ]
    },
    {
     "data": {
      "text/plain": [
       "<Figure size 432x288 with 0 Axes>"
      ]
     },
     "metadata": {},
     "output_type": "display_data"
    },
    {
     "data": {
      "image/png": "[encoded data removed]",
      "text/plain": [
       "<Figure size 936x432 with 1 Axes>"
      ]
     },
     "metadata": {
      "needs_background": "light"
     },
     "output_type": "display_data"
    }
   ],
   "source": [
    "#one liner list for print all words with the letter of want\n",
    "hist_plot(hist_data(diction,'под'))"
   ]
  },
  {
   "cell_type": "code",
   "execution_count": 51,
   "id": "82ca635c",
   "metadata": {
    "scrolled": true
   },
   "outputs": [
    {
     "data": {
      "text/plain": [
       "<Figure size 432x288 with 0 Axes>"
      ]
     },
     "metadata": {},
     "output_type": "display_data"
    },
    {
     "data": {
      "image/png": "[encoded data removed]",
      "text/plain": [
       "<Figure size 1008x432 with 1 Axes>"
      ]
     },
     "metadata": {
      "needs_background": "light"
     },
     "output_type": "display_data"
    }
   ],
   "source": [
    "hist_plot(hist_data(baby_dictionairy[0][0:],maxlimit=50),saveName='demo',sizing=3,figsize= (14,6),rotate=90)"
   ]
  },
  {
   "cell_type": "code",
   "execution_count": 50,
   "id": "f43d8409",
   "metadata": {
    "scrolled": false
   },
   "outputs": [],
   "source": [
    "yioh = [(str(key) +'= '+ ', '.join(value)) for key,value in baby_dicty.items()]\n",
    "#print(yioh)#liston = hist_data(diction,maxlimit=100)"
   ]
  },
  {
   "cell_type": "code",
   "execution_count": 79,
   "id": "2ed26e78",
   "metadata": {},
   "outputs": [],
   "source": [
    "import textwrap\n",
    "with open('words_for_single_letter.txt', 'w', encoding='utf-8') as f:\n",
    "    f.writelines(textwrap.fill('\\n'.join([str(dicty)\\\n",
    "for dicty in loweraddsort(list(baby_dicty))\\\n",
    "if dicty.startswith('з') is True])))"
   ]
  },
  {
   "cell_type": "code",
   "execution_count": 64,
   "id": "b2254985",
   "metadata": {},
   "outputs": [],
   "source": [
    "mini,words = hist_data(list(diction), front='',maxlimit=100,minlimit=10,words= True)\n",
    "#mini2, words2 = hist_data(list(diction), front='э',maxlimit=100,minlimit=10,words= True)"
   ]
  },
  {
   "cell_type": "code",
   "execution_count": 100,
   "id": "07762b69",
   "metadata": {},
   "outputs": [],
   "source": [
    "diffentiation = loweraddsort([ difer for difer in cutie[:10000]  if difer not in dictionairy ])\n",
    "path = r'C:\\Users\\Thanasis\\Documents\\Russian\\python\\Russian_Dictionairy\\difer.txt'\n",
    "# open the file in the write mode\n",
    "#fcsv = open(path1,encoding = 'utf-8', mode = 'w')\n",
    "difer = open(path,encoding = 'utf-8', mode = 'w')\n",
    "poll =''\n",
    "for wordie in diffentiation:\n",
    "    #print(wordie)\n",
    "    poll += str(wordie)+',\\n'\n",
    "difer.write(poll)\n",
    "# close the file\n",
    "#fcsv.close()\n",
    "difer.close()"
   ]
  },
  {
   "cell_type": "code",
   "execution_count": 80,
   "id": "456f29a4",
   "metadata": {},
   "outputs": [
    {
     "data": {
      "text/plain": [
       "\" !!Experiment for splitting the 20K words dictionairy!!\\nletter = ''\\nsenarios = []\\ndictions = []\\ntimer=[]\\nfor i in range(0,30):\\n    start_time = time. time()\\n    dictsta = hist_data(dictionery=list(diction),                front=letter,maxlimit=100+10*i)\\n    dictions.append(dictsta)\\n    lalista = list(dictsta)\\n    #hist_plot(dictsta,rotate=90)\\n    senarios.append(len(lalista))\\n    print('Iterations:'+str(i)+          '\\nTime elapsed:'+str(time. time()-start_time)+'sec',          sep='\\n')\\n    timer.append(time. time()-start_time)\\n    print(len(lalista))#,rounding=0,          #saveName=letter,rotate=90,sizing=3,figsize= (15,6))\\nprint(len(senarios))\\nfocus = 40\\nopenn = 0\\nplt.xlabel('rooms', fontsize=18)\\nplt.ylabel('palaces', fontsize=16)\\nplt.plot(range(10+openn,focus),senarios[0+openn:focus-10])\\nplt.plot(np.gradient(senarios))\\n#plt.plot(range(10+openn,focus),[senario/num for senario,num in zip(senarios[0+openn:focus-10],range(10+openn,focus))])\\n\""
      ]
     },
     "execution_count": 80,
     "metadata": {},
     "output_type": "execute_result"
    }
   ],
   "source": [
    "\"\"\" !!Experiment for splitting the 20K words dictionairy!!\n",
    "letter = ''\n",
    "senarios = []\n",
    "dictions = []\n",
    "timer=[]\n",
    "for i in range(0,30):\n",
    "    start_time = time. time()\n",
    "    dictsta = hist_data(dictionery=list(diction),\\\n",
    "                front=letter,maxlimit=100+10*i)\n",
    "    dictions.append(dictsta)\n",
    "    lalista = list(dictsta)\n",
    "    #hist_plot(dictsta,rotate=90)\n",
    "    senarios.append(len(lalista))\n",
    "    print('Iterations:'+str(i)+\\\n",
    "          '\\nTime elapsed:'+str(time. time()-start_time)+'sec',\\\n",
    "          sep='\\n')\n",
    "    timer.append(time. time()-start_time)\n",
    "    print(len(lalista))#,rounding=0,\\\n",
    "          #saveName=letter,rotate=90,sizing=3,figsize= (15,6))\n",
    "print(len(senarios))\n",
    "focus = 40\n",
    "openn = 0\n",
    "plt.xlabel('rooms', fontsize=18)\n",
    "plt.ylabel('palaces', fontsize=16)\n",
    "plt.plot(range(10+openn,focus),senarios[0+openn:focus-10])\n",
    "plt.plot(np.gradient(senarios))\n",
    "#plt.plot(range(10+openn,focus),[senario/num for senario,num in zip(senarios[0+openn:focus-10],range(10+openn,focus))])\n",
    "plt.plot([240,\n",
    "239,\n",
    "237,\n",
    "234,\n",
    "227,\n",
    "225,\n",
    "223,\n",
    "218,\n",
    "217,\n",
    "210,\n",
    "206,\n",
    "204,\n",
    "202,\n",
    "199,\n",
    "194,\n",
    "191,\n",
    "191,\n",
    "186,\n",
    "186,\n",
    "186,\n",
    "184,\n",
    "184,\n",
    "181,\n",
    "179,\n",
    "179,\n",
    "179,\n",
    "174,\n",
    "170,\n",
    "161,\n",
    "161])\n",
    "\"\"\""
   ]
  },
  {
   "cell_type": "code",
   "execution_count": 22,
   "id": "e2b829dd",
   "metadata": {},
   "outputs": [
    {
     "ename": "SyntaxError",
     "evalue": "(unicode error) 'unicodeescape' codec can't decode bytes in position 40-41: truncated \\UXXXXXXXX escape (<ipython-input-22-f268ab04d276>, line 1)",
     "output_type": "error",
     "traceback": [
      "\u001b[1;36m  File \u001b[1;32m\"<ipython-input-22-f268ab04d276>\"\u001b[1;36m, line \u001b[1;32m1\u001b[0m\n\u001b[1;33m    \"\"\"\u001b[0m\n\u001b[1;37m    ^\u001b[0m\n\u001b[1;31mSyntaxError\u001b[0m\u001b[1;31m:\u001b[0m (unicode error) 'unicodeescape' codec can't decode bytes in position 40-41: truncated \\UXXXXXXXX escape\n"
     ]
    }
   ],
   "source": [
    "\"\"\"\n",
    "from google_speech import Speech\n",
    "# say \"Hello World\"\n",
    "text = 'Привет мирПривет мир'\n",
    "lang = 'ru'\n",
    "speechs = Speech(text, lang)\n",
    "speechs.play()\n",
    "\n",
    "# you can also apply audio effects while playing (using SoX)\n",
    "# see http://sox.sourceforge.net/sox.html#EFFECTS for full effect documentation\n",
    "#sox_effects = (\"speed\", \"1.5\")\n",
    "#speech.play(sox_effects)\n",
    "\n",
    "# save the speech to an MP3 file (no effect is applied)\n",
    "print(dir(Speech.play().self))\n",
    "speechs.save('output.mp3')\n",
    "\"\"\"\n",
    "\"\"\"from yandex_speech import TTS\n",
    "tts = TTS(\"zahar\", \"mp3\", \"60589d42-0e42-b742-8942-thekeyisalie\")\n",
    "tts.generate(\"Привет мир\")\n",
    "tts.save(path=\"opla\")\n",
    "\"\"\"\n",
    "\"\"\"\n",
    "mport time\n",
    "import playsound\n",
    "path = r'C:\\Users\\Thanasis\\Documents\\Russian\\python\\opla.mp3'\n",
    "print()\n",
    "\"\"\"\n",
    "\"\"\"\n",
    "speaker - Speaker. Female: \"jane\", \"oksana\", \"alyss\", \"omazh\". Male: \"zahar\", \"ermil\";\n",
    "audio_format - Audio file format: \"mp3\", \"wav\", \"opus\";\n",
    "key - API‑key for Yandex speech kit.\n",
    "lang (optional) - Language: \"ru‑RU\" (by default), \"en-US\", \"tr-TR\", \"uk-UK\";\n",
    "emotion (optional) - The color of the voice: \"neutral\" (by default), \"evil\", \"good\";\n",
    "speed (optional) - Speech tempo: a value between 0.1 (slowest) to 3.0 (fastest).\n",
    "tts.generate(text)\n",
    "text - Text to speech: \"з+амок\" (before the stressed vowel can be put \"+\"; the restriction on line length: 2000 bytes);\n",
    "tts.save(path=\"speech\")\n",
    "path (optional) - A path to save file: \"test\", \"dirname/test.mp3\", ...;\n",
    "Returns the path.\n",
    "\"\"\""
   ]
  }
 ],
 "metadata": {
  "kernelspec": {
   "display_name": "Python 3",
   "language": "python",
   "name": "python3"
  },
  "language_info": {
   "codemirror_mode": {
    "name": "ipython",
    "version": 3
   },
   "file_extension": ".py",
   "mimetype": "text/x-python",
   "name": "python",
   "nbconvert_exporter": "python",
   "pygments_lexer": "ipython3",
   "version": "3.8.8"
  }
 },
 "nbformat": 4,
 "nbformat_minor": 5
}
