{
 "cells": [
  {
   "cell_type": "code",
   "execution_count": 1,
   "id": "81ac3e70",
   "metadata": {},
   "outputs": [],
   "source": [
    "import inspect\n",
    "from urllib.request import urlopen\n",
    "from bs4 import BeautifulSoup\n",
    "from urllib.request import urlopen\n",
    "from urllib.error import HTTPError\n",
    "from urllib.error import URLError\n",
    "import numpy as np"
   ]
  },
  {
   "cell_type": "code",
   "execution_count": 2,
   "id": "9cc1cd75",
   "metadata": {},
   "outputs": [
    {
     "name": "stdout",
     "output_type": "stream",
     "text": [
      "It Worked!\n"
     ]
    }
   ],
   "source": [
    "try:\n",
    " urlMain='http://www.wordcyclopedia.com'\n",
    " listLevels = np.asarray([ 'a1', 'a2', 'b1', 'b2', 'c1', 'c2'])\n",
    " url ='http://www.wordcyclopedia.com/russian/'\n",
    "\n",
    "\n",
    "except HTTPError as e:\n",
    " print(e)\n",
    "except URLError as e:\n",
    " print('The server could not be found!')\n",
    "else:\n",
    " print('It Worked!')"
   ]
  },
  {
   "cell_type": "code",
   "execution_count": 3,
   "id": "c1fae3f3",
   "metadata": {},
   "outputs": [
    {
     "name": "stdout",
     "output_type": "stream",
     "text": [
      "932\n",
      "1056\n",
      "1562\n",
      "3422\n",
      "1393\n",
      "582\n"
     ]
    }
   ],
   "source": [
    "sum = 0\n",
    "for level in listLevels:\n",
    "    html = urlopen(url + str(level))\n",
    "    bs = BeautifulSoup\\\n",
    "     (html.read(),'html.parser')\n",
    " #Find all words for a level\n",
    "    wordList_tmp = bs.find_all\\\n",
    "     ('a', {'class':'word'})\n",
    "#transList_tmp = word.parent.find_all('span', {'class':'translation'})\n",
    "    print(len(wordList_tmp))\n",
    "    globals()[str(level)] = np.ndarray(shape = (3,len(wordList_tmp)) , dtype = object)\n",
    "    #locals()[str(level)] = np.zeros(3,len(wordList_tmp))\n",
    "    j = 0 \n",
    "    for word in wordList_tmp:\n",
    "    #print(word.get_text())\n",
    "        transList_tmp = word.parent.find_all('span', {'class':'translation'})\n",
    "    #print(transList_tmp)\n",
    "        trans = []\n",
    "        for item in transList_tmp:\n",
    "            trans.append(item.get_text())\n",
    "        globals()[str(level)][1][j]=\\\n",
    "        trans\n",
    "        globals()[str(level)][0][j]=\\\n",
    "        word.get_text()\n",
    "        globals()[str(level)][2][j]=\\\n",
    "        (urlMain+str(word.get('href')))\n",
    "        j +=1\n",
    "    sum += j"
   ]
  },
  {
   "cell_type": "code",
   "execution_count": 4,
   "id": "da9bff88",
   "metadata": {},
   "outputs": [
    {
     "name": "stdout",
     "output_type": "stream",
     "text": [
      "(8947,)\n"
     ]
    }
   ],
   "source": [
    "dictionairy = np.ndarray(shape = (sum,), dtype = object)\n",
    "print(dictionairy.shape)\n",
    "t = 0\n",
    "for level in listLevels:\n",
    "    for word in range(0,len(globals()[str(level)][0])):\n",
    "        #print(globals()[str(level)][0][word])\n",
    "        dictionairy[t] = globals()[str(level)][0][word]\n",
    "        #print(dictionairy[t])\n",
    "        t+=1\n"
   ]
  },
  {
   "cell_type": "code",
   "execution_count": 5,
   "id": "de8a969a",
   "metadata": {},
   "outputs": [],
   "source": [
    "for i in range(0,len(dictionairy)):\n",
    "    dictionairy[i]=dictionairy[i].lower()\n",
    "    \n",
    "    \n",
    "dictionairy = np.sort(dictionairy)\n",
    "#print(*dictionairy, sep = '\\n')"
   ]
  },
  {
   "cell_type": "code",
   "execution_count": 6,
   "id": "5135f17b",
   "metadata": {},
   "outputs": [],
   "source": [
    "cyrillic_translit={'\\u0410': 'A', '\\u0430': 'a',\n",
    "'\\u0411': 'B', '\\u0431': 'b',\n",
    "'\\u0412': 'V', '\\u0432': 'v',\n",
    "'\\u0413': 'G', '\\u0433': 'g',\n",
    "'\\u0414': 'D', '\\u0434': 'd',\n",
    "'\\u0415': 'E', '\\u0435': 'e',\n",
    "'\\u0416': 'Zh', '\\u0436': 'zh',\n",
    "'\\u0417': 'Z', '\\u0437': 'z',\n",
    "'\\u0418': 'I', '\\u0438': 'i',\n",
    "'\\u0419': 'I', '\\u0439': 'i',\n",
    "'\\u041a': 'K', '\\u043a': 'k',\n",
    "'\\u041b': 'L', '\\u043b': 'l',\n",
    "'\\u041c': 'M', '\\u043c': 'm',\n",
    "'\\u041d': 'N', '\\u043d': 'n',\n",
    "'\\u041e': 'O', '\\u043e': 'o',\n",
    "'\\u041f': 'P', '\\u043f': 'p',\n",
    "'\\u0420': 'R', '\\u0440': 'r',\n",
    "'\\u0421': 'S', '\\u0441': 's',\n",
    "'\\u0422': 'T', '\\u0442': 't',\n",
    "'\\u0423': 'U', '\\u0443': 'u',\n",
    "'\\u0424': 'F', '\\u0444': 'f',\n",
    "'\\u0425': 'Kh', '\\u0445': 'kh',\n",
    "'\\u0426': 'Ts', '\\u0446': 'ts',\n",
    "'\\u0427': 'Ch', '\\u0447': 'ch',\n",
    "'\\u0428': 'Sh', '\\u0448': 'sh',\n",
    "'\\u0429': 'Shch', '\\u0449': 'shch',\n",
    "'\\u042a': '\"', '\\u044a': '\"',\n",
    "'\\u042b': 'Y', '\\u044b': 'y',\n",
    "'\\u042c': \"'\", '\\u044c': \"'\",\n",
    "'\\u042d': 'E', '\\u044d': 'e',\n",
    "'\\u042e': 'Iu', '\\u044e': 'iu',\n",
    "'\\u042f': 'Ia', '\\u044f': 'ia'}\n",
    "def transliterate(word, translit_table=cyrillic_translit):\n",
    "    converted_word = ''\n",
    "    for char in word:\n",
    "        transchar = ''\n",
    "        if char in translit_table:\n",
    "            transchar = translit_table[char]\n",
    "        else:\n",
    "            transchar = char\n",
    "        converted_word += transchar\n",
    "    return converted_word"
   ]
  },
  {
   "cell_type": "code",
   "execution_count": 7,
   "id": "d837cd19",
   "metadata": {},
   "outputs": [
    {
     "data": {
      "text/plain": [
       "\"letters = []\\nnew_dict  = {}\\nalphabet = 'АаБбВвГгДдЕеЁёЖжЗзИиЙйКкЛлМмНнОоПпРрСсТтУуФфХхЦцЧчШшЩщЪъЫыЬьЭэЮюЯя'\\nalphabet_upper = 'АБВГДЕЁЖЗИЙКЛМНОПРСТУФХЦЧШЩЪЫЬЭЮЯ'\\nalphabet_lower='абвгдеёжзийклмнопрстуфхцчшщъыьэюя'\\n#print(alphabet_lower)\\nfor gramma in alphabet_lower:  \\n    letter = []\\n    for i in range(0,len(dictionairy)):\\n        if(dictionairy[i].startswith(gramma)):\\n            letter.append(dictionairy[i])\\n    #print(gramma + ' ' + str(len(letter)))\\n    #letter=\\n    new_dict[gramma]= len(letter)\\n    #print(gramma, new_dict[gramma])\\n    letter.clear()\\n#print(*letter, sep = '\\n')\""
      ]
     },
     "execution_count": 7,
     "metadata": {},
     "output_type": "execute_result"
    }
   ],
   "source": [
    "\"\"\"letters = []\n",
    "new_dict  = {}\n",
    "alphabet = 'АаБбВвГгДдЕеЁёЖжЗзИиЙйКкЛлМмНнОоПпРрСсТтУуФфХхЦцЧчШшЩщЪъЫыЬьЭэЮюЯя'\n",
    "alphabet_upper = 'АБВГДЕЁЖЗИЙКЛМНОПРСТУФХЦЧШЩЪЫЬЭЮЯ'\n",
    "alphabet_lower='абвгдеёжзийклмнопрстуфхцчшщъыьэюя'\n",
    "#print(alphabet_lower)\n",
    "for gramma in alphabet_lower:  \n",
    "    letter = []\n",
    "    for i in range(0,len(dictionairy)):\n",
    "        if(dictionairy[i].startswith(gramma)):\n",
    "            letter.append(dictionairy[i])\n",
    "    #print(gramma + ' ' + str(len(letter)))\n",
    "    #letter=\n",
    "    new_dict[gramma]= len(letter)\n",
    "    #print(gramma, new_dict[gramma])\n",
    "    letter.clear()\n",
    "#print(*letter, sep = '\\n')\"\"\""
   ]
  },
  {
   "cell_type": "code",
   "execution_count": 8,
   "id": "7b4a6a5f",
   "metadata": {
    "scrolled": true
   },
   "outputs": [],
   "source": [
    "#print(new_dict)\n",
    "#plt.bar([ str(i) for i in new_dict.keys()], new_dict.values(), color='g')\n",
    "#plt.show()"
   ]
  },
  {
   "cell_type": "code",
   "execution_count": 9,
   "id": "6275453a",
   "metadata": {},
   "outputs": [
    {
     "data": {
      "text/plain": [
       "'letters2 = []\\nnew_dict2  = {}\\ngrammata = []\\ngrammata3 = []\\nfor gramma in alphabet_lower:  \\n    sum=[]\\n    new_dict3 = {}\\n    for gramma2 in alphabet_lower:\\n        tmp_list = []        \\n        letter2 = []\\n        for i in range(0,len(dictionairy)):\\n            if(dictionairy[i].startswith(gramma+gramma2)):\\n                letter2.append(dictionairy[i])\\n    #print(gramma + \\' \\' + str(len(letter)))\\n    #letter=\\n        if len(letter2) != 0:\\n            tmp_list.append(letter2.copy())\\n           #print(tmp_list)\\n            new_dict2[gramma+gramma2] = tmp_list.copy()\\n            #print(new_dict2[gramma+gramma2])\\n    #print(gramma, new_dict[gramma])\\n            sum.append(gramma+gramma2)\\n            new_dict3[gramma+gramma2]= len(letter2)\\n            #print(new_dict2 , \"1\")\\n        #print(new_dict2 , \"2\")\\n        letter2.clear()\\n        #print(new_dict2 , \"3\")\\n        tmp_list.clear()\\n        #print(new_dict2 , \"4\")\\n    grammata3.append(new_dict3)\\n    grammata.append(sum)'"
      ]
     },
     "execution_count": 9,
     "metadata": {},
     "output_type": "execute_result"
    }
   ],
   "source": [
    "\"\"\"letters2 = []\n",
    "new_dict2  = {}\n",
    "grammata = []\n",
    "grammata3 = []\n",
    "for gramma in alphabet_lower:  \n",
    "    sum=[]\n",
    "    new_dict3 = {}\n",
    "    for gramma2 in alphabet_lower:\n",
    "        tmp_list = []        \n",
    "        letter2 = []\n",
    "        for i in range(0,len(dictionairy)):\n",
    "            if(dictionairy[i].startswith(gramma+gramma2)):\n",
    "                letter2.append(dictionairy[i])\n",
    "    #print(gramma + ' ' + str(len(letter)))\n",
    "    #letter=\n",
    "        if len(letter2) != 0:\n",
    "            tmp_list.append(letter2.copy())\n",
    "           #print(tmp_list)\n",
    "            new_dict2[gramma+gramma2] = tmp_list.copy()\n",
    "            #print(new_dict2[gramma+gramma2])\n",
    "    #print(gramma, new_dict[gramma])\n",
    "            sum.append(gramma+gramma2)\n",
    "            new_dict3[gramma+gramma2]= len(letter2)\n",
    "            #print(new_dict2 , \"1\")\n",
    "        #print(new_dict2 , \"2\")\n",
    "        letter2.clear()\n",
    "        #print(new_dict2 , \"3\")\n",
    "        tmp_list.clear()\n",
    "        #print(new_dict2 , \"4\")\n",
    "    grammata3.append(new_dict3)\n",
    "    grammata.append(sum)\"\"\"\n",
    "    "
   ]
  },
  {
   "cell_type": "code",
   "execution_count": 10,
   "id": "b9ceee95",
   "metadata": {
    "scrolled": true
   },
   "outputs": [],
   "source": [
    "#print(*grammata, sep = '\\n')\n",
    "#print(new_dict2, sep = '\\n')\n",
    "#print(*grammata3, sep = '\\n')"
   ]
  },
  {
   "cell_type": "code",
   "execution_count": 11,
   "id": "93a0c1f8",
   "metadata": {
    "scrolled": true
   },
   "outputs": [
    {
     "data": {
      "text/plain": [
       "\"for active,leter in zip(range(0,len(grammata)), alphabet_lower):\\n    if new_dict[leter] != 0 :\\n        print(leter + ':' + str(len(grammata[active]))+ ':' +          str(new_dict[leter]))\\n        tmp = round(new_dict[leter]/len(grammata[active]),1)\\n        tmp2 = round(len(grammata[active])/new_dict[leter]*100,1)\\n        print('___________' +              str(tmp) +'_words per category ' + str(tmp2) + '%')\\n    else:\\n        print(leter + ':' + str(len(grammata[active]))+ ':' +          str(new_dict[leter]))\\n    #print(list(new_dict2.keys())[0:17])\\n    #print(len(list(new_dict2.keys())))\""
      ]
     },
     "execution_count": 11,
     "metadata": {},
     "output_type": "execute_result"
    }
   ],
   "source": [
    "\"\"\"for active,leter in zip(range(0,len(grammata)), alphabet_lower):\n",
    "    if new_dict[leter] != 0 :\n",
    "        print(leter + ':' + str(len(grammata[active]))+ ':' +\\\n",
    "          str(new_dict[leter]))\n",
    "        tmp = round(new_dict[leter]/len(grammata[active]),1)\n",
    "        tmp2 = round(len(grammata[active])/new_dict[leter]*100,1)\n",
    "        print('___________' +\\\n",
    "              str(tmp) +'_words per category ' + str(tmp2) + '%')\n",
    "    else:\n",
    "        print(leter + ':' + str(len(grammata[active]))+ ':' +\\\n",
    "          str(new_dict[leter]))\n",
    "    #print(list(new_dict2.keys())[0:17])\n",
    "    #print(len(list(new_dict2.keys())))\"\"\""
   ]
  },
  {
   "cell_type": "code",
   "execution_count": 12,
   "id": "b0e402f0",
   "metadata": {},
   "outputs": [
    {
     "data": {
      "text/plain": [
       "'import matplotlib.pyplot as plt\\n#%matplotlib tk\\n\\nfig, ax = plt.subplots(figsize = (13,6))\\nax.bar(list(new_dict.keys()), new_dict.values(),         align=\\'center\\',color=\\'cyan\\', edgecolor = \\'red\\')\\nfor index,data in enumerate(list(new_dict.values())):\\n    plt.text(x=index , y =data+1 , s=f\"{data}\" , fontdict=dict(fontsize=20))\\nplt.tight_layout()\\n#plt.show()'"
      ]
     },
     "execution_count": 12,
     "metadata": {},
     "output_type": "execute_result"
    }
   ],
   "source": [
    "\"\"\"import matplotlib.pyplot as plt\n",
    "#%matplotlib tk\n",
    "\n",
    "fig, ax = plt.subplots(figsize = (13,6))\n",
    "ax.bar(list(new_dict.keys()), new_dict.values(), \\\n",
    "        align='center',color='cyan', edgecolor = 'red')\n",
    "for index,data in enumerate(list(new_dict.values())):\n",
    "    plt.text(x=index , y =data+1 , s=f\"{data}\" , fontdict=dict(fontsize=20))\n",
    "plt.tight_layout()\n",
    "#plt.show()\"\"\""
   ]
  },
  {
   "cell_type": "code",
   "execution_count": 13,
   "id": "49017c06",
   "metadata": {},
   "outputs": [
    {
     "data": {
      "text/plain": [
       "'fig, ax = plt.subplots(figsize = (13,6))\\n#print(list(grammata3[0].keys()))\\nax.bar(list(grammata3[0].keys()),       grammata3[0].values(),         align=\\'center\\',color=\\'cyan\\', edgecolor = \\'red\\')\\nfor index,data in enumerate(list(grammata3[0].values())):\\n    plt.text(x=index , y =data+1 , s=f\"{data}\" , fontdict=dict(fontsize=20))\\nplt.tight_layout()\\n#plt.show()'"
      ]
     },
     "execution_count": 13,
     "metadata": {},
     "output_type": "execute_result"
    }
   ],
   "source": [
    "\"\"\"fig, ax = plt.subplots(figsize = (13,6))\n",
    "#print(list(grammata3[0].keys()))\n",
    "ax.bar(list(grammata3[0].keys()),\\\n",
    "       grammata3[0].values(), \\\n",
    "        align='center',color='cyan', edgecolor = 'red')\n",
    "for index,data in enumerate(list(grammata3[0].values())):\n",
    "    plt.text(x=index , y =data+1 , s=f\"{data}\" , fontdict=dict(fontsize=20))\n",
    "plt.tight_layout()\n",
    "#plt.show()\"\"\""
   ]
  },
  {
   "cell_type": "code",
   "execution_count": 14,
   "id": "244ecaa9",
   "metadata": {},
   "outputs": [
    {
     "data": {
      "text/plain": [
       "'grammataki = 5\\nfig, ax = plt.subplots(figsize = (13,6))\\n#print(list(grammata3[grammataki].keys()))\\nax.bar(list(grammata3[grammataki].keys()),       grammata3[grammataki].values(),         align=\\'center\\',color=\\'cyan\\', edgecolor = \\'red\\')\\nfor index,data in enumerate(list(grammata3[grammataki].values())):\\n    plt.text(x=index , y =data+1 , s=f\"{data}\" , fontdict=dict(fontsize=20))\\nplt.title(str(list(new_dict.keys())[grammataki]))\\nplt.tight_layout()\\n#plt.show()'"
      ]
     },
     "execution_count": 14,
     "metadata": {},
     "output_type": "execute_result"
    }
   ],
   "source": [
    "\"\"\"grammataki = 5\n",
    "fig, ax = plt.subplots(figsize = (13,6))\n",
    "#print(list(grammata3[grammataki].keys()))\n",
    "ax.bar(list(grammata3[grammataki].keys()),\\\n",
    "       grammata3[grammataki].values(), \\\n",
    "        align='center',color='cyan', edgecolor = 'red')\n",
    "for index,data in enumerate(list(grammata3[grammataki].values())):\n",
    "    plt.text(x=index , y =data+1 , s=f\"{data}\" , fontdict=dict(fontsize=20))\n",
    "plt.title(str(list(new_dict.keys())[grammataki]))\n",
    "plt.tight_layout()\n",
    "#plt.show()\"\"\""
   ]
  },
  {
   "cell_type": "code",
   "execution_count": 16,
   "id": "33497f91",
   "metadata": {},
   "outputs": [],
   "source": [
    "#print(*list(new_dict2['аб']))"
   ]
  },
  {
   "cell_type": "code",
   "execution_count": 22,
   "id": "4e097736",
   "metadata": {},
   "outputs": [
    {
     "data": {
      "text/plain": [
       "'\\nfrom google_speech import Speech\\n# say \"Hello World\"\\ntext = \\'Привет мирПривет мир\\'\\nlang = \\'ru\\'\\nspeechs = Speech(text, lang)\\nspeechs.play()\\n\\n# you can also apply audio effects while playing (using SoX)\\n# see http://sox.sourceforge.net/sox.html#EFFECTS for full effect documentation\\n#sox_effects = (\"speed\", \"1.5\")\\n#speech.play(sox_effects)\\n\\n# save the speech to an MP3 file (no effect is applied)\\nprint(dir(Speech.play().self))\\nspeechs.save(\\'output.mp3\\')\\n'"
      ]
     },
     "execution_count": 22,
     "metadata": {},
     "output_type": "execute_result"
    }
   ],
   "source": [
    "\"\"\"\n",
    "from google_speech import Speech\n",
    "# say \"Hello World\"\n",
    "text = 'Привет мирПривет мир'\n",
    "lang = 'ru'\n",
    "speechs = Speech(text, lang)\n",
    "speechs.play()\n",
    "\n",
    "# you can also apply audio effects while playing (using SoX)\n",
    "# see http://sox.sourceforge.net/sox.html#EFFECTS for full effect documentation\n",
    "#sox_effects = (\"speed\", \"1.5\")\n",
    "#speech.play(sox_effects)\n",
    "\n",
    "# save the speech to an MP3 file (no effect is applied)\n",
    "print(dir(Speech.play().self))\n",
    "speechs.save('output.mp3')\n",
    "\"\"\""
   ]
  },
  {
   "cell_type": "code",
   "execution_count": 23,
   "id": "4008b2f9",
   "metadata": {},
   "outputs": [
    {
     "data": {
      "text/plain": [
       "'from yandex_speech import TTS\\ntts = TTS(\"zahar\", \"mp3\", \"60589d42-0e42-b742-8942-thekeyisalie\")\\ntts.generate(\"Привет мир\")\\ntts.save(path=\"opla\")\\n'"
      ]
     },
     "execution_count": 23,
     "metadata": {},
     "output_type": "execute_result"
    }
   ],
   "source": [
    "\"\"\"from yandex_speech import TTS\n",
    "tts = TTS(\"zahar\", \"mp3\", \"60589d42-0e42-b742-8942-thekeyisalie\")\n",
    "tts.generate(\"Привет мир\")\n",
    "tts.save(path=\"opla\")\n",
    "\"\"\""
   ]
  },
  {
   "cell_type": "code",
   "execution_count": 26,
   "id": "e2b829dd",
   "metadata": {},
   "outputs": [
    {
     "ename": "SyntaxError",
     "evalue": "(unicode error) 'unicodeescape' codec can't decode bytes in position 40-41: truncated \\UXXXXXXXX escape (<ipython-input-26-f268ab04d276>, line 1)",
     "output_type": "error",
     "traceback": [
      "\u001b[1;36m  File \u001b[1;32m\"<ipython-input-26-f268ab04d276>\"\u001b[1;36m, line \u001b[1;32m1\u001b[0m\n\u001b[1;33m    \"\"\"\u001b[0m\n\u001b[1;37m    ^\u001b[0m\n\u001b[1;31mSyntaxError\u001b[0m\u001b[1;31m:\u001b[0m (unicode error) 'unicodeescape' codec can't decode bytes in position 40-41: truncated \\UXXXXXXXX escape\n"
     ]
    }
   ],
   "source": [
    "\"\"\"\n",
    "mport time\n",
    "import playsound\n",
    "path = r'C:\\Users\\Thanasis\\Documents\\Russian\\python\\opla.mp3'\n",
    "print()\n",
    "\"\"\""
   ]
  },
  {
   "cell_type": "code",
   "execution_count": 27,
   "id": "27dde254",
   "metadata": {},
   "outputs": [
    {
     "data": {
      "text/plain": [
       "'\\nspeaker - Speaker. Female: \"jane\", \"oksana\", \"alyss\", \"omazh\". Male: \"zahar\", \"ermil\";\\naudio_format - Audio file format: \"mp3\", \"wav\", \"opus\";\\nkey - API‑key for Yandex speech kit.\\nlang (optional) - Language: \"ru‑RU\" (by default), \"en-US\", \"tr-TR\", \"uk-UK\";\\nemotion (optional) - The color of the voice: \"neutral\" (by default), \"evil\", \"good\";\\nspeed (optional) - Speech tempo: a value between 0.1 (slowest) to 3.0 (fastest).\\ntts.generate(text)\\ntext - Text to speech: \"з+амок\" (before the stressed vowel can be put \"+\"; the restriction on line length: 2000 bytes);\\ntts.save(path=\"speech\")\\npath (optional) - A path to save file: \"test\", \"dirname/test.mp3\", ...;\\nReturns the path.\\n'"
      ]
     },
     "execution_count": 27,
     "metadata": {},
     "output_type": "execute_result"
    }
   ],
   "source": [
    "\"\"\"\n",
    "speaker - Speaker. Female: \"jane\", \"oksana\", \"alyss\", \"omazh\". Male: \"zahar\", \"ermil\";\n",
    "audio_format - Audio file format: \"mp3\", \"wav\", \"opus\";\n",
    "key - API‑key for Yandex speech kit.\n",
    "lang (optional) - Language: \"ru‑RU\" (by default), \"en-US\", \"tr-TR\", \"uk-UK\";\n",
    "emotion (optional) - The color of the voice: \"neutral\" (by default), \"evil\", \"good\";\n",
    "speed (optional) - Speech tempo: a value between 0.1 (slowest) to 3.0 (fastest).\n",
    "tts.generate(text)\n",
    "text - Text to speech: \"з+амок\" (before the stressed vowel can be put \"+\"; the restriction on line length: 2000 bytes);\n",
    "tts.save(path=\"speech\")\n",
    "path (optional) - A path to save file: \"test\", \"dirname/test.mp3\", ...;\n",
    "Returns the path.\n",
    "\"\"\""
   ]
  },
  {
   "cell_type": "code",
   "execution_count": 39,
   "id": "e64490d9",
   "metadata": {},
   "outputs": [
    {
     "name": "stdout",
     "output_type": "stream",
     "text": [
      "я\n",
      "яблоко\n",
      "явление\n",
      "являться\n",
      "явно\n",
      "явный\n",
      "ягода\n",
      "яд\n",
      "ядерный\n",
      "ядовитый\n",
      "ядро\n",
      "язык\n",
      "языковой\n",
      "языковый\n",
      "яйцо\n",
      "якобы\n",
      "якорь\n",
      "яма\n",
      "январь\n",
      "японец\n",
      "японский\n",
      "яркий\n",
      "ярко\n",
      "яркость\n",
      "ярмарка\n",
      "яростно\n",
      "ярость\n",
      "ясли\n",
      "ясно\n",
      "ясность\n",
      "ясный\n",
      "яхта\n",
      "ячейка\n",
      "ящик\n"
     ]
    }
   ],
   "source": [
    "pack = \"\"\n",
    "pack = ' '.join(dictionairy.tolist())\n",
    "print(*dictionairy[len(dictionairy)-34:len(dictionairy)], sep = '\\n')"
   ]
  },
  {
   "cell_type": "code",
   "execution_count": null,
   "id": "5b561272",
   "metadata": {},
   "outputs": [],
   "source": []
  },
  {
   "cell_type": "code",
   "execution_count": null,
   "id": "9d0dc42d",
   "metadata": {},
   "outputs": [],
   "source": []
  }
 ],
 "metadata": {
  "kernelspec": {
   "display_name": "Python 3",
   "language": "python",
   "name": "python3"
  },
  "language_info": {
   "codemirror_mode": {
    "name": "ipython",
    "version": 3
   },
   "file_extension": ".py",
   "mimetype": "text/x-python",
   "name": "python",
   "nbconvert_exporter": "python",
   "pygments_lexer": "ipython3",
   "version": "3.8.8"
  }
 },
 "nbformat": 4,
 "nbformat_minor": 5
}
